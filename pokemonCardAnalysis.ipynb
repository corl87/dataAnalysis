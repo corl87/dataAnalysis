{
 "cells": [
  {
   "cell_type": "code",
   "execution_count": 1,
   "id": "e1140114",
   "metadata": {
    "_cell_guid": "b1076dfc-b9ad-4769-8c92-a6c4dae69d19",
    "_uuid": "8f2839f25d086af736a60e9eeb907d3b93b6e0e5",
    "execution": {
     "iopub.execute_input": "2025-01-25T23:05:20.510149Z",
     "iopub.status.busy": "2025-01-25T23:05:20.509723Z",
     "iopub.status.idle": "2025-01-25T23:05:21.640836Z",
     "shell.execute_reply": "2025-01-25T23:05:21.639236Z"
    },
    "papermill": {
     "duration": 1.136281,
     "end_time": "2025-01-25T23:05:21.642955",
     "exception": false,
     "start_time": "2025-01-25T23:05:20.506674",
     "status": "completed"
    },
    "tags": []
   },
   "outputs": [
    {
     "name": "stdout",
     "output_type": "stream",
     "text": [
      "       category primary_type   hp  attack\n",
      "896   legendary        ghost  100      65\n",
      "19      regular       normal   55      81\n",
      "342     regular       ground   40      40\n",
      "615     regular          bug   50      40\n",
      "788   legendary      psychic   43      29\n",
      "1022    paradox        steel   90      72\n",
      "414     regular          bug   30      30\n",
      "263     regular       normal   78      70\n",
      "408     regular         rock   97     165\n",
      "754     regular        grass   40      35\n",
      "Statistics for hp:\n",
      "Min: 20\n",
      "Max: 200\n",
      "Avg: 72.74\n",
      "Std: 31.123611485802737\n",
      "\n",
      "Statistics for attack:\n",
      "Min: 20\n",
      "Max: 165\n",
      "Avg: 79.11\n",
      "Std: 31.885811099844226\n",
      "\n",
      "Distinct values for category:\n",
      "category\n",
      "regular        81\n",
      "legendary      10\n",
      "ultra beast     4\n",
      "mythical        3\n",
      "paradox         2\n",
      "Name: count, dtype: int64\n",
      "\n",
      "Distinct values for primary_type:\n",
      "primary_type\n",
      "water       13\n",
      "normal      12\n",
      "bug         10\n",
      "grass        9\n",
      "ice          7\n",
      "fire         7\n",
      "dark         6\n",
      "ghost        5\n",
      "steel        5\n",
      "rock         5\n",
      "electric     5\n",
      "dragon       3\n",
      "fairy        3\n",
      "fighting     3\n",
      "psychic      3\n",
      "ground       3\n",
      "poison       1\n",
      "Name: count, dtype: int64\n",
      "\n"
     ]
    }
   ],
   "source": [
    "# This Python 3 environment comes with many helpful analytics libraries installed\n",
    "# It is defined by the kaggle/python Docker image: https://github.com/kaggle/docker-python\n",
    "# For example, here's several helpful packages to load\n",
    "\n",
    "import numpy as np # linear algebra\n",
    "import pandas as pd # data processing, CSV file I/O (e.g. pd.read_csv)\n",
    "\n",
    "# Input data files are available in the read-only \"../input/\" directory\n",
    "# For example, running this (by clicking run or pressing Shift+Enter) will list all files under the input directory\n",
    "\n",
    "df = pd.read_csv('/kaggle/input/pokmon-stats-across-generations-and-typings/pokemon_dataset.csv')\n",
    "\n",
    "df_selected = df[['category', 'primary_type', 'hp', 'attack']]\n",
    "\n",
    "\n",
    "df_sample = df_selected.sample(n=100)\n",
    "\n",
    "df_sample.to_csv('cs455_homework1_report_KhadkaDilleGulley.csv')\n",
    "\n",
    "# Display the first 10 rows of the sampled data to verify\n",
    "print(df_sample.head(10))\n",
    "\n",
    "numerical_columns = ['hp', 'attack']\n",
    "\n",
    "for col in numerical_columns:\n",
    "    print(f\"Statistics for {col}:\")\n",
    "    print(f\"Min: {df_sample[col].min()}\")\n",
    "    print(f\"Max: {df_sample[col].max()}\")\n",
    "    print(f\"Avg: {df_sample[col].mean()}\")\n",
    "    print(f\"Std: {df_sample[col].std()}\")\n",
    "    print()  \n",
    "\n",
    "non_numerical_columns = ['category', 'primary_type']\n",
    "\n",
    "for col in non_numerical_columns:\n",
    "    print(f\"Distinct values for {col}:\")\n",
    "    print(df_sample[col].value_counts())\n",
    "    print() \n"
   ]
  }
 ],
 "metadata": {
  "kaggle": {
   "accelerator": "none",
   "dataSources": [
    {
     "datasetId": 6351000,
     "sourceId": 10265742,
     "sourceType": "datasetVersion"
    }
   ],
   "dockerImageVersionId": 30839,
   "isGpuEnabled": false,
   "isInternetEnabled": false,
   "language": "python",
   "sourceType": "notebook"
  },
  "kernelspec": {
   "display_name": "Python 3",
   "language": "python",
   "name": "python3"
  },
  "language_info": {
   "codemirror_mode": {
    "name": "ipython",
    "version": 3
   },
   "file_extension": ".py",
   "mimetype": "text/x-python",
   "name": "python",
   "nbconvert_exporter": "python",
   "pygments_lexer": "ipython3",
   "version": "3.10.12"
  },
  "papermill": {
   "default_parameters": {},
   "duration": 4.67101,
   "end_time": "2025-01-25T23:05:22.267033",
   "environment_variables": {},
   "exception": null,
   "input_path": "__notebook__.ipynb",
   "output_path": "__notebook__.ipynb",
   "parameters": {},
   "start_time": "2025-01-25T23:05:17.596023",
   "version": "2.6.0"
  }
 },
 "nbformat": 4,
 "nbformat_minor": 5
}
